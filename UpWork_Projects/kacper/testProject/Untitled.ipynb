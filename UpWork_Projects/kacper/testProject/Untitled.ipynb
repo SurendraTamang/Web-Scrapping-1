{
 "cells": [
  {
   "cell_type": "code",
   "execution_count": 13,
   "metadata": {},
   "outputs": [],
   "source": [
    "import camelot\n",
    "import pandas as pd\n",
    "import os\n",
    "import csv"
   ]
  },
  {
   "cell_type": "code",
   "execution_count": 2,
   "metadata": {},
   "outputs": [],
   "source": [
    "tables = camelot.read_pdf(\"C:/Users/byom/Downloads/Microsoft.SkypeApp_kzf8qxf38zg5c!App/All/cai-402.61-CTLPT-North Buda-6.pdf\", flavor='lattice', strip_text=' .\\n')"
   ]
  },
  {
   "cell_type": "code",
   "execution_count": 3,
   "metadata": {},
   "outputs": [],
   "source": [
    "df1 = tables[0].df"
   ]
  },
  {
   "cell_type": "code",
   "execution_count": 6,
   "metadata": {},
   "outputs": [],
   "source": [
    "df2 = pd.DataFrame()"
   ]
  },
  {
   "cell_type": "code",
   "execution_count": 15,
   "metadata": {},
   "outputs": [],
   "source": [
    "df2 = df1[[2,3,4,5,6,7]]"
   ]
  },
  {
   "cell_type": "code",
   "execution_count": 16,
   "metadata": {},
   "outputs": [
    {
     "name": "stderr",
     "output_type": "stream",
     "text": [
      "c:\\users\\byom\\appdata\\local\\programs\\python\\python37\\lib\\site-packages\\pandas\\core\\frame.py:3997: SettingWithCopyWarning: \n",
      "A value is trying to be set on a copy of a slice from a DataFrame\n",
      "\n",
      "See the caveats in the documentation: https://pandas.pydata.org/pandas-docs/stable/user_guide/indexing.html#returning-a-view-versus-a-copy\n",
      "  errors=errors,\n"
     ]
    }
   ],
   "source": [
    "df2.drop([0,1,2,3], inplace=True)"
   ]
  },
  {
   "cell_type": "code",
   "execution_count": 18,
   "metadata": {},
   "outputs": [],
   "source": [
    "df2.columns = [\"ctr_nv_prgm\",\"ctr_ofc\",\"ctr_ctr\",\"ind_nv_prgm\",\"ind_ofc\",\"ind_ind\"]"
   ]
  },
  {
   "cell_type": "code",
   "execution_count": 19,
   "metadata": {},
   "outputs": [
    {
     "data": {
      "text/html": [
       "<div>\n",
       "<style scoped>\n",
       "    .dataframe tbody tr th:only-of-type {\n",
       "        vertical-align: middle;\n",
       "    }\n",
       "\n",
       "    .dataframe tbody tr th {\n",
       "        vertical-align: top;\n",
       "    }\n",
       "\n",
       "    .dataframe thead th {\n",
       "        text-align: right;\n",
       "    }\n",
       "</style>\n",
       "<table border=\"1\" class=\"dataframe\">\n",
       "  <thead>\n",
       "    <tr style=\"text-align: right;\">\n",
       "      <th></th>\n",
       "      <th>ctr_nv_prgm</th>\n",
       "      <th>ctr_ofc</th>\n",
       "      <th>ctr_ctr</th>\n",
       "      <th>ind_nv_prgm</th>\n",
       "      <th>ind_ofc</th>\n",
       "      <th>ind_ind</th>\n",
       "    </tr>\n",
       "  </thead>\n",
       "  <tbody>\n",
       "    <tr>\n",
       "      <th>4</th>\n",
       "      <td>C0001</td>\n",
       "      <td>C1</td>\n",
       "      <td>CNWZ</td>\n",
       "      <td>I0001</td>\n",
       "      <td>I1</td>\n",
       "      <td>NWK</td>\n",
       "    </tr>\n",
       "    <tr>\n",
       "      <th>5</th>\n",
       "      <td>C0002</td>\n",
       "      <td>C2</td>\n",
       "      <td>CRWZ</td>\n",
       "      <td>I0002</td>\n",
       "      <td>I2</td>\n",
       "      <td>RWK</td>\n",
       "    </tr>\n",
       "    <tr>\n",
       "      <th>6</th>\n",
       "      <td></td>\n",
       "      <td></td>\n",
       "      <td></td>\n",
       "      <td></td>\n",
       "      <td></td>\n",
       "      <td></td>\n",
       "    </tr>\n",
       "    <tr>\n",
       "      <th>7</th>\n",
       "      <td>C0003</td>\n",
       "      <td>C3</td>\n",
       "      <td>CFGZ</td>\n",
       "      <td>I0003</td>\n",
       "      <td>I3</td>\n",
       "      <td>LK</td>\n",
       "    </tr>\n",
       "    <tr>\n",
       "      <th>8</th>\n",
       "      <td>C0004</td>\n",
       "      <td>C4</td>\n",
       "      <td>CTGZ</td>\n",
       "      <td>I0004</td>\n",
       "      <td>I4</td>\n",
       "      <td>OLK</td>\n",
       "    </tr>\n",
       "  </tbody>\n",
       "</table>\n",
       "</div>"
      ],
      "text/plain": [
       "  ctr_nv_prgm ctr_ofc ctr_ctr ind_nv_prgm ind_ofc ind_ind\n",
       "4       C0001      C1    CNWZ       I0001      I1     NWK\n",
       "5       C0002      C2    CRWZ       I0002      I2     RWK\n",
       "6                                                        \n",
       "7       C0003      C3    CFGZ       I0003      I3      LK\n",
       "8       C0004      C4    CTGZ       I0004      I4     OLK"
      ]
     },
     "execution_count": 19,
     "metadata": {},
     "output_type": "execute_result"
    }
   ],
   "source": [
    "df2.head()"
   ]
  },
  {
   "cell_type": "code",
   "execution_count": 14,
   "metadata": {},
   "outputs": [],
   "source": [
    "df2.to_csv(\"./excel1.csv\", encoding='utf-8', index=False)"
   ]
  },
  {
   "cell_type": "code",
   "execution_count": null,
   "metadata": {},
   "outputs": [],
   "source": [
    "def writeCSV(fileName, dict_data, fieldName):\n",
    "    file_exists = os.path.isfile(fileName)\n",
    "    with open(fileName, 'a', encoding='utf-8') as csvfile:\n",
    "        writer = csv.DictWriter(csvfile, fieldnames=fieldName, lineterminator='\\n')\n",
    "        if not file_exists:\n",
    "            writer.writeheader()\n",
    "        for data in dict_data:\n",
    "            writer.writerow(data)"
   ]
  },
  {
   "cell_type": "code",
   "execution_count": 22,
   "metadata": {},
   "outputs": [
    {
     "name": "stdout",
     "output_type": "stream",
     "text": [
      "C0001\n",
      "C0002\n",
      "C0003\n"
     ]
    }
   ],
   "source": [
    "for _,val in df2.head(n=4).iterrows():\n",
    "    dataList = []\n",
    "    if val['ctr_nv_prgm']:\n",
    "        dataList.append(\n",
    "        {\n",
    "            'ctr_nv_prgm':val['ctr_nv_prgm'],\n",
    "            'ctr_ofc':val['ctr_ofc'],\n",
    "            'ctr_ctr':val['ctr_ctr'],\n",
    "            'ind_nv_prgm':val['ind_nv_prgm'],\n",
    "            'ind_ofc':val['ind_ofc'],\n",
    "            'ind_ind':val['ind_ind'],\n",
    "        }\n",
    "        )"
   ]
  },
  {
   "cell_type": "code",
   "execution_count": null,
   "metadata": {},
   "outputs": [],
   "source": []
  }
 ],
 "metadata": {
  "kernelspec": {
   "display_name": "Python 3",
   "language": "python",
   "name": "python3"
  },
  "language_info": {
   "codemirror_mode": {
    "name": "ipython",
    "version": 3
   },
   "file_extension": ".py",
   "mimetype": "text/x-python",
   "name": "python",
   "nbconvert_exporter": "python",
   "pygments_lexer": "ipython3",
   "version": "3.7.8"
  }
 },
 "nbformat": 4,
 "nbformat_minor": 4
}
