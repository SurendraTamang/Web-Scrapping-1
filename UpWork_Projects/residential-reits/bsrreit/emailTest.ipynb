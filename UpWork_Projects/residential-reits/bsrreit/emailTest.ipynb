{
 "cells": [
  {
   "cell_type": "code",
   "execution_count": 1,
   "metadata": {},
   "outputs": [],
   "source": [
    "import os\n",
    "import smtplib\n",
    "from email.message import EmailMessage"
   ]
  },
  {
   "cell_type": "code",
   "execution_count": 2,
   "metadata": {},
   "outputs": [],
   "source": [
    "#EMAIL_USER = os.environ.get('EMAIL_USER')\n",
    "#EMAIL_PASS = os.environ.get('EMAIL_PASS')\n"
   ]
  },
  {
   "cell_type": "code",
   "execution_count": 7,
   "metadata": {},
   "outputs": [],
   "source": [
    "# with smtplib.SMTP('smtp.gmail.com', 587) as smtp:\n",
    "with smtplib.SMTP('localhost', 1025) as smtp:\n",
    "    # smtp.ehlo()\n",
    "    # smtp.starttls()\n",
    "    # smtp.ehlo()\n",
    "    \n",
    "    # smtp.login(EMAIL_USER, EMAIL_PASS)\n",
    "    \n",
    "    subject = \"This is a test subject!\"\n",
    "    body = \"Hello World! This is the body of the test mail.\"\n",
    "    \n",
    "    msg = f'Subject: {subject}\\n\\n{body}'\n",
    "    \n",
    "    smtp.sendmail(EMAIL_USER, 'p.byom26@gmail.com', msg)\n",
    "    \n",
    "    # To start a debugging server => python -m smtpd -c DebuggingServer -n localhost:1025"
   ]
  },
  {
   "cell_type": "code",
   "execution_count": 3,
   "metadata": {},
   "outputs": [],
   "source": [
    "# USING SMTP_SSL CONNECTION\n",
    "\n",
    "msg = EmailMessage()\n",
    "msg['Subject'] = 'This is a test subject!'\n",
    "msg['From'] = EMAIL_USER\n",
    "msg['To'] = 'p.byom26@gmail.com'\n",
    "msg.set_content('Hello World! This is the smtp_ssl way of sending a mail.')\n",
    "\n",
    "with smtplib.SMTP_SSL('smtp.gmail.com', 465) as smtp:\n",
    "    smtp.login(EMAIL_USER, EMAIL_PASS)    \n",
    "    smtp.send_message(msg)\n",
    "    \n",
    "    # To start a debugging server => python -m smtpd -c DebuggingServer -n localhost:1025"
   ]
  },
  {
   "cell_type": "code",
   "execution_count": null,
   "metadata": {},
   "outputs": [],
   "source": []
  }
 ],
 "metadata": {
  "kernelspec": {
   "display_name": "Python 3",
   "language": "python",
   "name": "python3"
  },
  "language_info": {
   "codemirror_mode": {
    "name": "ipython",
    "version": 3
   },
   "file_extension": ".py",
   "mimetype": "text/x-python",
   "name": "python",
   "nbconvert_exporter": "python",
   "pygments_lexer": "ipython3",
   "version": "3.7.8"
  }
 },
 "nbformat": 4,
 "nbformat_minor": 4
}
