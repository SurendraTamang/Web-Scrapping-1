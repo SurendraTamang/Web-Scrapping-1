{
  "nbformat": 4,
  "nbformat_minor": 0,
  "metadata": {
    "colab": {
      "name": "YelpSeleniumScraper.ipynb",
      "provenance": []
    },
    "kernelspec": {
      "name": "python3",
      "display_name": "Python 3"
    }
  },
  "cells": [
    {
      "cell_type": "markdown",
      "metadata": {
        "id": "EqTyrdxpWaK7"
      },
      "source": [
        "# Setting up the Chromedriver"
      ]
    },
    {
      "cell_type": "code",
      "metadata": {
        "id": "YcfEwSZioUx6"
      },
      "source": [
        "!pip install scrapy\r\n",
        "!pip install selenium\r\n",
        "!pip install selenium-stealth\r\n",
        "!apt-get update\r\n",
        "!apt install chromium-chromedriver\r\n",
        "!cp /usr/lib/chromium-browser/chromedriver /usr/bin\r\n",
        "\r\n",
        "import sys\r\n",
        "sys.path.insert(0,'/usr/lib/chromium-browser/chromedriver')"
      ],
      "execution_count": null,
      "outputs": []
    },
    {
      "cell_type": "markdown",
      "metadata": {
        "id": "xk2tP3dqWod5"
      },
      "source": [
        "# Python Selenium Script"
      ]
    },
    {
      "cell_type": "code",
      "metadata": {
        "colab": {
          "base_uri": "https://localhost:8080/"
        },
        "id": "syCzlbcFpcmg",
        "outputId": "27bd0d39-d4a6-4a20-dc88-a064d2830a17"
      },
      "source": [
        "from selenium import webdriver\r\n",
        "from selenium.webdriver.support.ui import WebDriverWait\r\n",
        "from selenium.webdriver.support import expected_conditions as EC\r\n",
        "from selenium.webdriver.common.by import By\r\n",
        "from scrapy import Selector\r\n",
        "from selenium_stealth import stealth\r\n",
        "import os\r\n",
        "import csv\r\n",
        "import time\r\n",
        "\r\n",
        "\r\n",
        "FIELD_NAMES = ['userName', 'address', 'rating', 'dateOfReview', 'reviewDesc']\r\n",
        "\r\n",
        "def writeCSV(data, fieldName, FILE_NAME):\r\n",
        "    fileExists = os.path.isfile(FILE_NAME)\r\n",
        "    with open(FILE_NAME, 'a', encoding='utf-8') as csvfile:\r\n",
        "        writer = csv.DictWriter(csvfile, fieldnames=fieldName, lineterminator='\\n')\r\n",
        "        if not fileExists:\r\n",
        "            writer.writeheader()\r\n",
        "        writer.writerow(data)\r\n",
        "\r\n",
        "chrome_options = webdriver.ChromeOptions()\r\n",
        "chrome_options.add_argument('--headless')\r\n",
        "chrome_options.add_argument('--no-sandbox')\r\n",
        "chrome_options.add_argument('--disable-dev-shm-usage')\r\n",
        "chrome_options.add_experimental_option(\"excludeSwitches\", [\"enable-automation\"])\r\n",
        "chrome_options.add_experimental_option('useAutomationExtension', False)\r\n",
        "driver = webdriver.Chrome('chromedriver',chrome_options=chrome_options)\r\n",
        "\r\n",
        "stealth(driver,\r\n",
        "        languages=[\"en-US\", \"en\"],\r\n",
        "        vendor=\"Google Inc.\",\r\n",
        "        platform=\"Win32\",\r\n",
        "        webgl_vendor=\"Intel Inc.\",\r\n",
        "        renderer=\"Intel Iris OpenGL Engine\",\r\n",
        "        fix_hairline=True,\r\n",
        "        )\r\n",
        "\r\n",
        "driver.get(input(\"Enter the URL: \"))\r\n",
        "\r\n",
        "try:\r\n",
        "  WebDriverWait(driver, 5).until(EC.visibility_of_element_located((By.XPATH, \"//section[@aria-label='Recommended Reviews']//ul[contains(@class, 'undefined list')]/li\")))\r\n",
        "except:\r\n",
        "  pass\r\n",
        "\r\n",
        "FILE_NAME = f'''{driver.find_element_by_xpath(\"//h1\").get_attribute('innerHTML').replace(\" \",\"_\").strip().lower()}.csv'''\r\n",
        "\r\n",
        "while True:\r\n",
        "  html = driver.page_source\r\n",
        "  respObj = Selector(text=html)\r\n",
        "\r\n",
        "  reviews = respObj.xpath(\"//section[@aria-label='Recommended Reviews']//ul[contains(@class, 'undefined list')]/li\")\r\n",
        "  for review in reviews:\r\n",
        "    userName = review.xpath(\"normalize-space(.//a[contains(@href, 'user_details')]/text())\").get()\r\n",
        "    address = review.xpath(\"normalize-space(.//a[contains(@href, 'user_details')]/parent::span/following-sibling::div/span/text())\").get()\r\n",
        "    rating = review.xpath(\".//div[contains(@aria-label, 'star rating')]/@aria-label\").get() # Replace \"star rating\"\r\n",
        "    dateOfReview = review.xpath(\"normalize-space(.//div[contains(@aria-label, 'star rating')]/parent::span/parent::div/following-sibling::div/span/text())\").get()\r\n",
        "    reviewDesc = review.xpath(\".//span[contains(@class, ' raw')]/text()\").getall()\r\n",
        "\r\n",
        "    data = {\r\n",
        "        FIELD_NAMES[0]: userName,\r\n",
        "        FIELD_NAMES[1]: address,\r\n",
        "        FIELD_NAMES[2]: rating.replace(\"star rating\",\"\").strip(),\r\n",
        "        FIELD_NAMES[3]: dateOfReview,\r\n",
        "        FIELD_NAMES[4]: \" \".join(revDesc.strip() for revDesc in reviewDesc)\r\n",
        "    }\r\n",
        "\r\n",
        "    writeCSV(data, FIELD_NAMES, FILE_NAME)\r\n",
        "    data.clear()\r\n",
        "\r\n",
        "  nextPage = respObj.xpath(\"//a/span[contains(@class, 'chevron-right')]\")\r\n",
        "  if nextPage:\r\n",
        "    print(nextPage)\r\n",
        "    nextBtnElem = driver.find_element_by_xpath(\"//a/span[contains(@class, 'chevron-right')]\")\r\n",
        "    driver.execute_script(\"arguments[0].click()\", nextBtnElem)\r\n",
        "    time.sleep(2)\r\n",
        "  else:\r\n",
        "    break\r\n",
        "\r\n",
        "\r\n"
      ],
      "execution_count": 19,
      "outputs": [
        {
          "output_type": "stream",
          "text": [
            "/usr/local/lib/python3.6/dist-packages/ipykernel_launcher.py:28: DeprecationWarning: use options instead of chrome_options\n"
          ],
          "name": "stderr"
        },
        {
          "output_type": "stream",
          "text": [
            "Enter the URL: https://www.yelp.com/biz/knead-some-love-ny-weehawken-3\n"
          ],
          "name": "stdout"
        }
      ]
    },
    {
      "cell_type": "code",
      "metadata": {
        "id": "GfDZXzyipm5n"
      },
      "source": [
        ""
      ],
      "execution_count": null,
      "outputs": []
    }
  ]
}